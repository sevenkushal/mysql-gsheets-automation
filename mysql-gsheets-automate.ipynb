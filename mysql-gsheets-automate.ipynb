{
 "cells": [
  {
   "cell_type": "code",
   "execution_count": null,
   "id": "bb765793-3540-43b8-8b6e-35957673ced3",
   "metadata": {
    "tags": []
   },
   "outputs": [],
   "source": [
    "import time"
   ]
  },
  {
   "cell_type": "code",
   "execution_count": null,
   "id": "9d4bc1f6-8cbe-4003-b6fe-ceb709b19d10",
   "metadata": {
    "tags": []
   },
   "outputs": [],
   "source": [
    "import mysql.connector\n",
    "\n",
    "mydb = mysql.connector.connect(\n",
    "  host=\"nurish-staging.chqodtxfzojn.us-east-2.rds.amazonaws.com\",\n",
    "  user=\"ro_kushal\",\n",
    "  password=\"SfnsAUJSx0JSMWLJjnmkS2IsY!\"\n",
    ")\n",
    "\n",
    "mycursor = mydb.cursor()\n",
    "\n",
    "mycursor.execute(\"\"\"SELECT * FROM production.user WHERE createdAt BETWEEN DATE_ADD(CURRENT_DATE, INTERVAL -1 DAY)\n",
    "AND DATE_ADD(CURRENT_DATE, INTERVAL 0 DAY)\"\"\")\n",
    "\n",
    "myresult = mycursor.fetchall()\n",
    "\n",
    "total_rows = len(myresult)\n",
    "total_columns = len(myresult[0])\n",
    "\n",
    "print(total_rows)\n",
    "print(myresult[0][0])\n",
    "\n",
    "# for x in myresult:\n",
    "#    print(x)"
   ]
  },
  {
   "cell_type": "code",
   "execution_count": null,
   "id": "c260cfc3-3ea5-46a3-ac2a-4578420a1495",
   "metadata": {
    "tags": []
   },
   "outputs": [],
   "source": [
    "import gspread\n",
    "from google.oauth2.service_account import Credentials"
   ]
  },
  {
   "cell_type": "code",
   "execution_count": null,
   "id": "32b27388-8cab-406f-8f3c-193f9bc06a05",
   "metadata": {
    "tags": []
   },
   "outputs": [],
   "source": [
    "scopes = [\"https://www.googleapis.com/auth/spreadsheets\"]"
   ]
  },
  {
   "cell_type": "code",
   "execution_count": null,
   "id": "d6408e20-2c5a-4fe5-8da9-f98098140525",
   "metadata": {
    "tags": []
   },
   "outputs": [],
   "source": [
    "creds = Credentials.from_service_account_file(\"credentials.json\", scopes = scopes)\n",
    "client = gspread.authorize(creds)\n",
    "sheet_id = \"1FWZTLdQuoZQJ6JNSfn8mNhGUvotwT3ZAXQBM6Mp8MPE\"\n",
    "sheet = client.open_by_key(sheet_id)\n",
    "values_list = sheet.sheet1.row_values(1)\n",
    "print(values_list)\n",
    "#print(len(sheet.sheet1.get_all_values()))\n",
    "gsheet_rows = len(sheet.sheet1.get_all_values())\n",
    "print(gsheet_rows)"
   ]
  },
  {
   "cell_type": "code",
   "execution_count": null,
   "id": "f17fe154-2da7-40a6-9f05-6c9c9b904b00",
   "metadata": {
    "tags": []
   },
   "outputs": [],
   "source": [
    "for rows in range(0, total_rows):\n",
    "    for columns in range(0, total_columns):\n",
    "        print(gsheet_rows + rows + 1, columns + 1, myresult[rows][columns])\n",
    "        sheet.sheet1.update_cell(gsheet_rows + rows + 1, columns + 1, str(myresult[rows][columns]))\n",
    "        time.sleep(1)"
   ]
  }
 ],
 "metadata": {
  "kernelspec": {
   "display_name": "Python 3 (ipykernel)",
   "language": "python",
   "name": "python3"
  },
  "language_info": {
   "codemirror_mode": {
    "name": "ipython",
    "version": 3
   },
   "file_extension": ".py",
   "mimetype": "text/x-python",
   "name": "python",
   "nbconvert_exporter": "python",
   "pygments_lexer": "ipython3",
   "version": "3.11.4"
  }
 },
 "nbformat": 4,
 "nbformat_minor": 5
}
